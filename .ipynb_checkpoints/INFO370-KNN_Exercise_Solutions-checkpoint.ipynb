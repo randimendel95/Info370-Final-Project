{
 "cells": [
  {
   "cell_type": "markdown",
   "metadata": {},
   "source": [
    "# Import modules"
   ]
  },
  {
   "cell_type": "code",
   "execution_count": 1,
   "metadata": {
    "collapsed": false
   },
   "outputs": [],
   "source": [
    "from sklearn.datasets import load_boston\n",
    "from sklearn.cross_validation import train_test_split\n",
    "from sklearn.preprocessing import scale\n",
    "from sklearn.neighbors import KNeighborsRegressor\n",
    "from sklearn.metrics import mean_squared_error\n",
    "from sklearn.cross_validation import KFold\n",
    "import matplotlib.pyplot as plt\n",
    "import numpy as np\n",
    "%matplotlib inline\n",
    "import pandas as pd"
   ]
  },
  {
   "cell_type": "markdown",
   "metadata": {},
   "source": [
    "# Load data\n",
    "\n",
    "For this exercise, we will be using a dataset of housing prices in Boston during the 1970s. Python's super-awesome sklearn package already has the data we need to get started. Below is the command to load the data. The data is stored as a dictionary. \n",
    "\n",
    "The 'DESCR' is a description of the data and the command for printing it is below. Note all the features we have to work with. From the dictionary, we need the data and the target variable (in this case, housing price). Store these as variables named \"data\" and \"price\", respectively. Once you have these, print their shapes to see all checks out with the DESCR."
   ]
  },
  {
   "cell_type": "code",
   "execution_count": 2,
   "metadata": {
    "collapsed": false
   },
   "outputs": [
    {
     "name": "stdout",
     "output_type": "stream",
     "text": [
      "      Unnamed: 0  UNITID                                             INSTNM  \\\n",
      "0              1  100654                           Alabama A & M University   \n",
      "1              2  100663                University of Alabama at Birmingham   \n",
      "2              3  100690                                 Amridge University   \n",
      "3              4  100706                University of Alabama in Huntsville   \n",
      "4              5  100724                           Alabama State University   \n",
      "5              6  100751                          The University of Alabama   \n",
      "6              7  100760                  Central Alabama Community College   \n",
      "7              8  100812                            Athens State University   \n",
      "8              9  100830                    Auburn University at Montgomery   \n",
      "9             10  100858                                  Auburn University   \n",
      "10            11  100937                        Birmingham Southern College   \n",
      "11            12  101028             Chattahoochee Valley Community College   \n",
      "12            13  101073                          Concordia College Alabama   \n",
      "13            14  101116                        South University-Montgomery   \n",
      "14            15  101143                 Enterprise State Community College   \n",
      "15            16  101161           James H Faulkner State Community College   \n",
      "16            17  101189                                Faulkner University   \n",
      "17            18  101240                    Gadsden State Community College   \n",
      "18            19  101277               New Beginning College of Cosmetology   \n",
      "19            20  101286    George C Wallace State Community College-Dothan   \n",
      "20            21  101295  George C Wallace State Community College-Hance...   \n",
      "21            22  101301     George C Wallace State Community College-Selma   \n",
      "22            23  101365                      Herzing University-Birmingham   \n",
      "23            24  101435                                 Huntingdon College   \n",
      "24            25  101462    J F Drake State Community and Technical College   \n",
      "25            26  101480                      Jacksonville State University   \n",
      "26            27  101499                  Jefferson Davis Community College   \n",
      "27            28  101505                  Jefferson State Community College   \n",
      "28            29  101514             John C Calhoun State Community College   \n",
      "29            30  101541                                     Judson College   \n",
      "...          ...     ...                                                ...   \n",
      "5760        5761  484686                    University of Phoenix-Louisiana   \n",
      "5761        5762  484695                     University of Phoenix-Michigan   \n",
      "5762        5763  484701                     University of Phoenix-Missouri   \n",
      "5763        5764  484710                       University of Phoenix-Nevada   \n",
      "5764        5765  484729               University of Phoenix-North Carolina   \n",
      "5765        5766  484738                     University of Phoenix-Oklahoma   \n",
      "5766        5767  484747                    University of Phoenix-Tennessee   \n",
      "5767        5768  484756                        University of Phoenix-Texas   \n",
      "5768        5769  484765                     University of Phoenix-Virginia   \n",
      "5769        5770  484783                 University of Phoenix-Pennsylvania   \n",
      "5770        5771  484826        Tint School of Makeup & Cosmetology-Seattle   \n",
      "5771        5772  484899                            Aveda Institute Phoenix   \n",
      "5772        5773  484932         BridgeValley Community & Technical College   \n",
      "5773        5774  484950                          Northwest College-Medford   \n",
      "5774        5775  484996                   Houston Training Schools-Gessner   \n",
      "5775        5776  485014                       Empire Beauty School-Buffalo   \n",
      "5776        5777  485032                    Paul Mitchell the School-Toledo   \n",
      "5777        5778  485078           Trine University-Arizona Regional Campus   \n",
      "5778        5779  485087              Regency Beauty Institute-Gaithersburg   \n",
      "5779        5780  485111                           Georgia Military College   \n",
      "5780        5781  485120              New Horizons Medical Institute-Winder   \n",
      "5781        5782  485139                SAE Institute of Technology-Chicago   \n",
      "5782        5783  485184         Fayette Beauty Academy-Ritz Beauty Academy   \n",
      "5783        5784  485193         Fayette Beauty Academy-Ritz Beauty Academy   \n",
      "5784        5785  485245                Cosmopolitan Beauty and Tech School   \n",
      "5785        5786  485263                       California College San Diego   \n",
      "5786        5787  485379  Hollywood Institute of Beauty Careers-West Pal...   \n",
      "5787        5788  485388  Hollywood Institute of Beauty Careers-Casselberry   \n",
      "5788        5789  485412           Coachella Valley Beauty College-Beaumont   \n",
      "5789        5790  485458                    Coastal Pines Technical College   \n",
      "\n",
      "                                    sector  crime_rate  student_pop  \\\n",
      "0                  Public, 4-year or above    3.562723         5333   \n",
      "1                  Public, 4-year or above    1.604450        18698   \n",
      "2       Private nonprofit, 4-year or above    0.000000          625   \n",
      "3                  Public, 4-year or above    4.627109         7348   \n",
      "4                  Public, 4-year or above   15.038956         5519   \n",
      "5                  Public, 4-year or above    2.247066        36047   \n",
      "6                           Public, 2-year    0.000000         1726   \n",
      "7                  Public, 4-year or above    0.000000         3128   \n",
      "8                  Public, 4-year or above    0.790983         5057   \n",
      "9                  Public, 4-year or above    1.582278        25912   \n",
      "10      Private nonprofit, 4-year or above    3.375527         1185   \n",
      "11                          Public, 2-year    0.000000         1805   \n",
      "12      Private nonprofit, 4-year or above   51.282051          546   \n",
      "13     Private for-profit, 4-year or above    0.000000          624   \n",
      "14                          Public, 2-year    0.000000         2011   \n",
      "15                          Public, 2-year    0.892658         4481   \n",
      "16      Private nonprofit, 4-year or above    0.599700         3335   \n",
      "17                          Public, 2-year    4.915863         5289   \n",
      "18    Private for-profit, less-than 2-year    0.000000          115   \n",
      "19                          Public, 2-year    0.000000         4854   \n",
      "20                          Public, 2-year    0.374322         5343   \n",
      "21                          Public, 2-year    0.000000         1663   \n",
      "22     Private for-profit, 4-year or above    0.000000          309   \n",
      "23      Private nonprofit, 4-year or above    6.896552         1160   \n",
      "24                          Public, 2-year    0.000000         1062   \n",
      "25                 Public, 4-year or above    2.078762         8659   \n",
      "26                          Public, 2-year    9.208103         1086   \n",
      "27                          Public, 2-year    0.117426         8516   \n",
      "28                          Public, 2-year    0.092575        10802   \n",
      "29      Private nonprofit, 4-year or above    5.291005          378   \n",
      "...                                    ...         ...          ...   \n",
      "5760   Private for-profit, 4-year or above    0.000000         1028   \n",
      "5761   Private for-profit, 4-year or above    0.734754         1361   \n",
      "5762   Private for-profit, 4-year or above    0.000000         1020   \n",
      "5763   Private for-profit, 4-year or above    0.000000         2090   \n",
      "5764   Private for-profit, 4-year or above    0.000000          772   \n",
      "5765   Private for-profit, 4-year or above    0.000000          471   \n",
      "5766   Private for-profit, 4-year or above    0.000000         2485   \n",
      "5767   Private for-profit, 4-year or above    0.380662         5254   \n",
      "5768   Private for-profit, 4-year or above    0.000000         1357   \n",
      "5769   Private for-profit, 4-year or above    0.000000          669   \n",
      "5770  Private for-profit, less-than 2-year   73.684211           95   \n",
      "5771  Private for-profit, less-than 2-year   11.363636          176   \n",
      "5772                        Public, 2-year    0.000000         2344   \n",
      "5773            Private for-profit, 2-year    0.000000           50   \n",
      "5774  Private for-profit, less-than 2-year    0.000000           90   \n",
      "5775  Private for-profit, less-than 2-year    0.000000           53   \n",
      "5776  Private for-profit, less-than 2-year   17.543860          114   \n",
      "5777    Private nonprofit, 4-year or above    0.000000          135   \n",
      "5778  Private for-profit, less-than 2-year    0.000000           40   \n",
      "5779                        Public, 2-year    0.550812         7262   \n",
      "5780  Private for-profit, less-than 2-year    0.000000          206   \n",
      "5781            Private for-profit, 2-year    0.000000          118   \n",
      "5782  Private for-profit, less-than 2-year    0.000000           19   \n",
      "5783  Private for-profit, less-than 2-year    0.000000            7   \n",
      "5784  Private for-profit, less-than 2-year    0.000000           26   \n",
      "5785    Private nonprofit, 4-year or above    0.000000          912   \n",
      "5786  Private for-profit, less-than 2-year    0.000000           55   \n",
      "5787  Private for-profit, less-than 2-year    0.000000           75   \n",
      "5788  Private for-profit, less-than 2-year    0.000000           67   \n",
      "5789                        Public, 2-year    0.000000         2431   \n",
      "\n",
      "      fin_indep  locale  pre_degree  firstgen_pct    fam_income  \n",
      "0      0.129593      12           3      0.394034  21595.331860  \n",
      "1      0.311615      12           3      0.357159  34491.401200  \n",
      "2      0.894260      12           3      0.602410  15191.782760  \n",
      "3      0.348569      12           3      0.342919  36239.771820  \n",
      "4      0.143531      12           3      0.380558  21737.277370  \n",
      "5      0.148414      13           3      0.244552  63166.006720  \n",
      "6      0.394334      32           2      0.560566  18481.051320  \n",
      "7      0.712364      31           3      0.471595  29270.712730  \n",
      "8      0.277585      12           3      0.387300  25555.250530  \n",
      "9      0.088724      13           3      0.198874  66831.188720  \n",
      "10     0.024331      12           3      0.200000  70831.325820  \n",
      "11     0.500308      41           2      0.442321  19992.121840  \n",
      "12     0.164179      32           3      0.533477  15246.551800  \n",
      "13     0.771980      12           2      0.487443  18693.844220  \n",
      "14     0.444684      32           2      0.453479  19973.639920  \n",
      "15     0.382659      32           2      0.458455  21460.951930  \n",
      "16     0.580021      12           3      0.431336  23765.734650  \n",
      "17     0.499850      13           2      0.536090  14834.596240  \n",
      "18     0.519737      32           1      0.550388  17611.208320  \n",
      "19     0.473439      41           2      0.529711  15747.913660  \n",
      "20     0.415922      32           2      0.529018  24195.457860  \n",
      "21     0.361131      32           2      0.505000  14055.186350  \n",
      "22     0.860031      21           1      0.527798  16935.389800  \n",
      "23     0.290936      12           3      0.327559  39106.443260  \n",
      "24     0.691358      12           2      0.593679  13551.124980  \n",
      "25     0.270138      13           3      0.413028  35079.883250  \n",
      "26     0.437236      32           2      0.550082  15957.342460  \n",
      "27     0.448910      12           2      0.487376  22229.278040  \n",
      "28     0.455607      41           2      0.491895  22153.822920  \n",
      "29     0.521127      43           3      0.460581  15917.220580  \n",
      "...         ...     ...         ...           ...           ...  \n",
      "5760   0.912558      12           3      0.541667  16789.831130  \n",
      "5761   0.912558      13           3      0.541667  16789.831130  \n",
      "5762   0.912558      41           3      0.541667  16789.831130  \n",
      "5763   0.912558      21           3      0.541667  16789.831130  \n",
      "5764   0.912558      11           3      0.541667  16789.831130  \n",
      "5765   0.912558      11           3      0.541667  16789.831130  \n",
      "5766   0.912558      11           3      0.541667  16789.831130  \n",
      "5767   0.912558      11           3      0.541667  16789.831130  \n",
      "5768   0.912558      21           3      0.541667  16789.831130  \n",
      "5769   0.912558      11           3      0.541667  16789.831130  \n",
      "5770   0.683128      11           1      0.474860  16541.039360  \n",
      "5771   0.518124      12           1      0.450839  24775.943620  \n",
      "5772   0.538353      22           2      0.553883  23506.659030  \n",
      "5773   0.627424      13           1      0.503413  14364.558760  \n",
      "5774   0.813261      11           1      0.669251  12776.862190  \n",
      "5775   0.616079      13           0      0.532520  10076.582740  \n",
      "5776   0.508230      21           1      0.525959  20810.680460  \n",
      "5777   0.247432      21           3      0.359389  58986.920760  \n",
      "5778   0.637931      21           1      0.465608   9524.285661  \n",
      "5779   0.463342      32           2      0.428764  21042.448150  \n",
      "5780   0.836923      31           1      0.589844  14436.116480  \n",
      "5781   0.515351      11           2      0.409574  18863.784080  \n",
      "5782   0.795918      21           0      0.518325  10861.154290  \n",
      "5783   0.795918      21           1      0.518325  10861.154290  \n",
      "5784   0.940092      21           1      0.934066  17437.102660  \n",
      "5785   0.693114      11           2      0.538916  19682.830630  \n",
      "5786   0.774730      13           1      0.545244  12424.103400  \n",
      "5787   0.774730      21           1      0.545244  12424.103400  \n",
      "5788   0.503106      21           1      0.704000  17647.290550  \n",
      "5789   0.636593      33           1      0.542373  15463.889830  \n",
      "\n",
      "[5790 rows x 11 columns]\n"
     ]
    }
   ],
   "source": [
    "file = pd.read_csv('cleaned.csv', encoding='iso-8859-1')\n",
    "file = \n",
    "print(file)"
   ]
  },
  {
   "cell_type": "code",
   "execution_count": null,
   "metadata": {
    "collapsed": false
   },
   "outputs": [],
   "source": []
  },
  {
   "cell_type": "code",
   "execution_count": 11,
   "metadata": {
    "collapsed": false
   },
   "outputs": [
    {
     "name": "stdout",
     "output_type": "stream",
     "text": [
      "(7703, 70)\n"
     ]
    }
   ],
   "source": [
    "print(file.shape)"
   ]
  },
  {
   "cell_type": "markdown",
   "metadata": {},
   "source": [
    "# Train-Test split\n",
    "\n",
    "Now, using sklearn's train_test_split, (see [here](http://scikit-learn.org/stable/modules/generated/sklearn.model_selection.train_test_split.html) for more. I've already imported it for you.) let's make a random train-test split with the test size equal to 30% of our data (i.e. set the test_size parameter to 0.3). For consistency, let's also set the random.state parameter = 11.\n",
    "\n",
    "Name the variables train_data, train_price for the training data and test_data, test_price for the test data. As a sanity check, let's also print the shapes of these variables."
   ]
  },
  {
   "cell_type": "code",
   "execution_count": 10,
   "metadata": {
    "collapsed": false
   },
   "outputs": [],
   "source": [
    "data_train, data_test, price_train, price_test = train_test_split(data, price, test_size=0.30, random_state=11)"
   ]
  },
  {
   "cell_type": "code",
   "execution_count": 11,
   "metadata": {
    "collapsed": false
   },
   "outputs": [
    {
     "name": "stdout",
     "output_type": "stream",
     "text": [
      "(354, 13)\n",
      "(152, 13)\n",
      "(354,)\n",
      "(152,)\n"
     ]
    }
   ],
   "source": [
    "print(data_train.shape)\n",
    "print(data_test.shape)\n",
    "print(price_train.shape)\n",
    "print(price_test.shape)"
   ]
  },
  {
   "cell_type": "markdown",
   "metadata": {},
   "source": [
    "# Scale our data\n",
    "\n",
    "Before we get too far ahead, let's scale our data. Let's subtract the min from each column (feature) and divide by the difference between the max and min for each column. \n",
    "\n",
    "Here's where things can get tricky. Remember, our test data is unseen yet we need to scale it. We cannot scale using it's min/max because the data is unseen might not be available to us en masse. Instead, we use the training min/max to scale the test data.\n",
    "\n",
    "Be sure to check which axis you use to take the mins/maxes!\n",
    "\n",
    "Let's add a \"\\_stand\" suffix to our train/test variable names for the standardized values"
   ]
  },
  {
   "cell_type": "code",
   "execution_count": 10,
   "metadata": {
    "collapsed": false
   },
   "outputs": [
    {
     "ename": "NameError",
     "evalue": "name 'data_train' is not defined",
     "output_type": "error",
     "traceback": [
      "\u001b[0;31m---------------------------------------------------------------------------\u001b[0m",
      "\u001b[0;31mNameError\u001b[0m                                 Traceback (most recent call last)",
      "\u001b[0;32m<ipython-input-10-8339383c37da>\u001b[0m in \u001b[0;36m<module>\u001b[0;34m()\u001b[0m\n\u001b[0;32m----> 1\u001b[0;31m \u001b[0mmins\u001b[0m \u001b[1;33m=\u001b[0m \u001b[0mnp\u001b[0m\u001b[1;33m.\u001b[0m\u001b[0mmin\u001b[0m\u001b[1;33m(\u001b[0m\u001b[0mdata_train\u001b[0m\u001b[1;33m,\u001b[0m \u001b[0maxis\u001b[0m \u001b[1;33m=\u001b[0m \u001b[1;36m0\u001b[0m\u001b[1;33m)\u001b[0m\u001b[1;33m\u001b[0m\u001b[0m\n\u001b[0m\u001b[1;32m      2\u001b[0m \u001b[0mmaxes\u001b[0m \u001b[1;33m=\u001b[0m \u001b[0mnp\u001b[0m\u001b[1;33m.\u001b[0m\u001b[0mmax\u001b[0m\u001b[1;33m(\u001b[0m\u001b[0mdata_train\u001b[0m\u001b[1;33m,\u001b[0m \u001b[0maxis\u001b[0m \u001b[1;33m=\u001b[0m \u001b[1;36m0\u001b[0m\u001b[1;33m)\u001b[0m\u001b[1;33m\u001b[0m\u001b[0m\n\u001b[1;32m      3\u001b[0m \u001b[0mdiff\u001b[0m \u001b[1;33m=\u001b[0m \u001b[0mmaxes\u001b[0m \u001b[1;33m-\u001b[0m \u001b[0mmins\u001b[0m\u001b[1;33m\u001b[0m\u001b[0m\n",
      "\u001b[0;31mNameError\u001b[0m: name 'data_train' is not defined"
     ]
    }
   ],
   "source": [
    "mins = np.min(data_train, axis = 0)\n",
    "maxes = np.max(data_train, axis = 0)\n",
    "diff = maxes - mins"
   ]
  },
  {
   "cell_type": "code",
   "execution_count": 13,
   "metadata": {
    "collapsed": false
   },
   "outputs": [
    {
     "data": {
      "text/plain": [
       "array([  8.89698800e+01,   9.50000000e+01,   2.72800000e+01,\n",
       "         1.00000000e+00,   4.86000000e-01,   4.86200000e+00,\n",
       "         9.38000000e+01,   1.09969000e+01,   2.30000000e+01,\n",
       "         5.24000000e+02,   9.40000000e+00,   3.96580000e+02,\n",
       "         3.62400000e+01])"
      ]
     },
     "execution_count": 13,
     "metadata": {},
     "output_type": "execute_result"
    }
   ],
   "source": [
    "diff"
   ]
  },
  {
   "cell_type": "code",
   "execution_count": 14,
   "metadata": {
    "collapsed": false
   },
   "outputs": [],
   "source": [
    "data_train_stand = (data_train - mins) / diff\n",
    "data_test_stand = (data_test - mins) / diff"
   ]
  },
  {
   "cell_type": "code",
   "execution_count": 15,
   "metadata": {
    "collapsed": false
   },
   "outputs": [],
   "source": [
    "minPrice = np.min(price_train)\n",
    "maxPrice = np.max(price_train)\n",
    "diffPrice = maxPrice - minPrice"
   ]
  },
  {
   "cell_type": "code",
   "execution_count": 16,
   "metadata": {
    "collapsed": true
   },
   "outputs": [],
   "source": [
    "price_train_stand = (price_train - minPrice) / diffPrice\n",
    "price_test_stand = (price_test - minPrice) / diffPrice"
   ]
  },
  {
   "cell_type": "markdown",
   "metadata": {},
   "source": [
    "# K-Fold CV\n",
    "\n",
    "Now, here's where things might get really messy. Let's implement 10-Fold Cross Validation on K-NN across a range of K values (given below - 9 total). We'll keep our K for K-fold CV constant at 10. \n",
    "\n",
    "Let's determine our accuracy using an RMSE (root-mean-square-error) value based on Euclidean distance. Save the errors for each fold at each K value (10 folds x 9 K values = 90 values) as you loop through.\n",
    "\n",
    "Take a look at [sklearn's K-fold CV](http://scikit-learn.org/0.17/modules/generated/sklearn.cross_validation.KFold.html). Also, sklearn has it's own [K-NN implementation](http://scikit-learn.org/stable/modules/generated/sklearn.neighbors.KNeighborsRegressor.html#sklearn.neighbors.KNeighborsRegressor). There is also an implementation of [mean squared error](http://scikit-learn.org/stable/modules/generated/sklearn.metrics.mean_squared_error.html), though you'll have to take the root yourself. I've imported these for you already. :)"
   ]
  },
  {
   "cell_type": "code",
   "execution_count": 17,
   "metadata": {
    "collapsed": true
   },
   "outputs": [],
   "source": [
    "kValues = [1, 2, 3, 4, 5, 10, 20, 40, 80]"
   ]
  },
  {
   "cell_type": "code",
   "execution_count": 18,
   "metadata": {
    "collapsed": false
   },
   "outputs": [],
   "source": [
    "folds = KFold(len(data_train_stand), n_folds = 10, shuffle = True)"
   ]
  },
  {
   "cell_type": "code",
   "execution_count": 20,
   "metadata": {
    "collapsed": false
   },
   "outputs": [
    {
     "name": "stdout",
     "output_type": "stream",
     "text": [
      "[  0   1   2   3   4   5   6   7   9  10  11  12  13  14  15  16  17  18\n",
      "  19  20  21  22  23  24  25  26  27  28  29  30  31  32  33  34  35  37\n",
      "  38  39  40  41  43  44  45  46  47  48  49  50  51  52  53  54  55  56\n",
      "  57  58  59  60  61  62  63  64  65  66  67  68  69  70  71  72  73  74\n",
      "  75  76  77  78  79  80  81  82  83  84  86  88  89  90  91  92  95  96\n",
      "  97  98  99 100 102 103 104 105 106 107 108 109 110 111 112 114 115 116\n",
      " 117 118 119 120 121 122 123 124 125 126 127 128 130 131 133 134 135 136\n",
      " 137 139 140 141 143 144 145 146 147 148 149 152 153 156 157 158 160 161\n",
      " 162 163 164 165 166 167 168 169 170 171 172 173 174 175 176 177 178 179\n",
      " 180 181 182 184 185 186 187 188 189 190 191 192 193 195 196 197 199 200\n",
      " 202 203 204 205 206 207 208 209 210 211 212 213 214 215 216 217 218 219\n",
      " 220 221 222 223 224 225 226 227 228 229 230 231 232 233 235 236 237 238\n",
      " 239 240 241 242 243 244 245 246 247 248 249 250 251 253 254 255 256 257\n",
      " 258 259 260 261 262 263 264 265 266 267 268 270 271 273 274 275 276 277\n",
      " 278 280 281 283 284 285 286 287 288 289 290 291 292 293 294 295 297 298\n",
      " 299 300 301 303 304 306 307 308 309 311 312 313 314 315 316 317 318 319\n",
      " 320 321 322 323 324 325 326 328 329 330 332 333 334 335 337 338 339 340\n",
      " 342 343 344 345 346 347 348 349 350 351 352 353]\n",
      "[  0   4   5   7   8   9  10  11  12  13  14  15  16  17  18  19  20  21\n",
      "  22  23  24  26  27  28  29  30  31  32  33  34  35  36  37  38  39  40\n",
      "  41  42  43  44  45  46  48  49  51  52  53  55  56  57  58  59  60  62\n",
      "  63  64  65  66  68  69  70  71  72  73  74  76  77  79  80  81  82  83\n",
      "  84  85  86  87  88  89  90  91  93  94  95  96  97  98  99 100 101 102\n",
      " 103 104 105 106 107 108 109 110 111 112 113 114 115 116 117 119 120 121\n",
      " 122 123 124 127 128 129 130 131 132 133 134 135 136 137 138 139 140 141\n",
      " 142 143 145 146 147 148 149 150 151 152 153 154 155 156 158 159 160 161\n",
      " 162 163 164 165 166 167 169 170 171 172 173 174 175 176 177 178 179 180\n",
      " 181 182 183 185 187 188 189 190 191 192 193 194 195 196 197 198 199 200\n",
      " 201 202 203 204 205 206 207 208 209 210 211 212 213 214 215 216 217 218\n",
      " 219 220 221 222 223 224 225 226 228 229 230 231 234 235 236 237 238 239\n",
      " 240 241 242 243 244 245 246 247 250 251 252 253 254 255 256 257 258 259\n",
      " 260 261 263 264 266 267 269 270 271 272 273 274 275 276 277 279 282 283\n",
      " 284 285 286 287 288 289 290 291 292 293 294 295 296 297 298 299 300 301\n",
      " 302 303 304 305 306 307 308 309 310 312 313 314 315 316 317 318 320 321\n",
      " 322 323 324 325 326 327 328 329 330 331 332 333 335 336 337 338 339 340\n",
      " 341 342 343 344 345 346 347 348 349 350 352 353]\n",
      "[  0   1   2   3   4   5   6   7   8  10  11  13  14  15  17  19  20  21\n",
      "  22  23  25  26  28  29  30  31  33  34  35  36  37  38  40  41  42  43\n",
      "  44  45  47  48  49  50  51  52  53  54  55  56  57  58  59  60  61  62\n",
      "  63  64  65  66  67  69  71  72  73  74  75  76  77  78  80  82  83  84\n",
      "  85  86  87  88  89  90  91  92  93  94  95  96  97  98  99 101 102 103\n",
      " 104 105 106 107 108 109 110 111 112 113 114 115 116 117 118 119 120 121\n",
      " 122 123 124 125 126 127 128 129 130 131 132 133 134 135 136 137 138 141\n",
      " 142 143 144 146 147 148 150 151 152 153 154 155 156 157 158 159 160 161\n",
      " 162 163 164 165 166 167 168 169 170 171 172 173 174 175 176 177 179 180\n",
      " 181 182 183 184 185 186 187 188 189 190 191 192 193 194 195 196 197 198\n",
      " 199 200 201 202 203 204 205 206 207 208 209 210 211 212 213 216 217 218\n",
      " 219 220 221 222 224 225 226 227 228 230 231 232 233 234 235 236 237 239\n",
      " 240 241 242 243 244 245 247 248 249 250 251 252 253 254 255 256 257 258\n",
      " 259 260 261 262 263 264 265 266 268 269 270 271 272 274 275 276 277 278\n",
      " 279 280 281 282 283 285 286 288 289 290 291 293 295 296 297 298 299 300\n",
      " 301 302 303 304 305 306 307 308 309 310 311 312 313 314 315 318 319 320\n",
      " 321 322 323 324 325 326 327 328 330 331 332 333 334 335 336 337 338 339\n",
      " 340 341 342 343 345 347 348 349 350 351 352 353]\n",
      "[  0   1   2   3   4   5   6   7   8   9  10  11  12  13  14  15  16  17\n",
      "  18  19  20  23  24  25  26  27  28  29  30  32  33  34  35  36  37  38\n",
      "  39  40  41  42  43  44  45  46  47  48  49  50  51  52  53  54  55  56\n",
      "  57  58  60  61  62  63  64  65  66  67  68  69  70  71  72  73  74  75\n",
      "  76  78  79  80  81  82  83  84  85  87  88  89  90  91  92  93  94  95\n",
      "  96  98 100 101 102 103 104 105 106 107 108 109 110 112 113 114 115 116\n",
      " 117 118 119 121 124 125 126 128 129 130 131 132 133 134 135 136 137 138\n",
      " 139 140 141 142 143 144 145 146 148 149 150 151 152 153 154 155 156 157\n",
      " 158 159 160 161 163 164 165 166 167 168 169 171 173 175 176 177 178 180\n",
      " 181 182 183 184 185 186 187 189 190 191 192 193 194 195 196 197 198 199\n",
      " 200 201 202 204 205 206 207 208 210 211 212 214 215 216 217 218 219 220\n",
      " 221 222 223 224 225 226 227 228 229 230 231 232 233 234 235 236 237 238\n",
      " 240 241 242 243 245 246 247 248 249 250 251 252 253 254 255 257 258 259\n",
      " 260 261 262 263 264 265 266 267 268 269 270 271 272 273 275 277 278 279\n",
      " 280 281 282 283 284 285 286 287 288 289 290 291 292 293 294 295 296 298\n",
      " 299 300 301 302 303 304 305 306 307 309 310 311 312 313 314 315 316 317\n",
      " 318 319 320 321 322 324 326 327 329 330 331 332 333 334 335 336 338 339\n",
      " 340 341 342 343 344 345 346 347 348 350 351 352]\n",
      "[  0   1   2   3   4   5   6   7   8   9  10  11  12  13  14  15  16  17\n",
      "  18  19  20  21  22  23  24  25  26  27  29  30  31  32  33  34  35  36\n",
      "  37  38  39  40  41  42  43  44  45  46  47  48  49  50  51  53  54  55\n",
      "  56  57  58  59  60  61  62  63  65  66  67  68  70  71  73  74  75  76\n",
      "  77  78  79  80  81  82  83  84  85  86  87  88  89  90  91  92  93  94\n",
      "  95  96  97  98  99 100 101 102 103 104 105 107 109 111 112 113 114 115\n",
      " 116 117 118 119 120 121 122 123 124 125 126 127 128 129 130 131 132 133\n",
      " 134 135 136 137 138 139 140 141 142 143 144 145 146 147 148 149 150 151\n",
      " 152 153 154 155 156 157 158 159 160 161 162 163 164 165 166 168 169 170\n",
      " 171 172 173 174 175 176 177 178 179 181 183 184 186 187 188 189 190 191\n",
      " 192 193 194 195 197 198 200 201 202 203 204 205 206 209 210 211 212 213\n",
      " 214 215 216 217 218 219 220 221 223 226 227 229 231 232 233 234 235 236\n",
      " 237 238 239 240 241 242 243 244 245 246 247 248 249 250 251 252 253 254\n",
      " 255 256 258 259 261 262 263 265 267 268 269 270 272 273 274 275 276 277\n",
      " 278 279 280 281 282 283 284 285 286 287 288 290 291 292 294 295 296 297\n",
      " 298 299 300 301 302 303 305 306 308 309 310 311 312 313 314 315 316 317\n",
      " 318 319 320 323 324 325 326 327 328 329 331 333 334 336 337 338 339 340\n",
      " 341 342 343 344 345 346 347 348 349 350 351 352 353]\n",
      "[  0   1   2   3   4   5   6   7   8   9  10  12  13  14  15  16  17  18\n",
      "  19  21  22  23  24  25  26  27  28  29  30  31  32  33  34  35  36  39\n",
      "  41  42  43  44  46  47  48  50  52  53  54  55  57  58  59  60  61  62\n",
      "  63  64  65  66  67  68  69  70  71  72  73  74  75  76  77  78  79  80\n",
      "  81  82  83  84  85  86  87  89  90  91  92  93  94  95  97  98  99 100\n",
      " 101 102 103 104 105 106 107 108 109 110 111 112 113 114 115 116 117 118\n",
      " 119 120 121 122 123 124 125 126 127 128 129 130 131 132 133 134 135 136\n",
      " 138 139 140 141 142 143 144 145 147 149 150 151 153 154 155 156 157 158\n",
      " 159 161 162 164 166 167 168 169 170 172 173 174 175 176 177 178 179 180\n",
      " 181 182 183 184 185 186 187 188 189 190 194 195 196 197 198 199 200 201\n",
      " 202 203 204 205 206 207 208 209 210 211 212 213 214 215 216 217 218 219\n",
      " 222 223 224 225 226 227 228 229 230 232 233 234 235 236 237 238 239 240\n",
      " 242 243 244 245 246 247 248 249 250 252 253 254 255 256 257 258 259 260\n",
      " 261 262 263 264 265 266 267 268 269 270 271 272 273 274 275 276 277 278\n",
      " 279 280 281 282 284 286 287 288 289 291 292 293 294 295 296 297 298 300\n",
      " 301 302 304 305 307 308 309 310 311 312 313 314 315 316 317 318 319 320\n",
      " 321 322 323 325 326 327 328 329 330 331 332 333 334 335 336 337 338 339\n",
      " 341 342 343 344 345 346 347 348 349 350 351 352 353]\n",
      "[  0   1   2   3   4   5   6   8   9  10  11  12  13  14  15  16  17  18\n",
      "  19  20  21  22  23  24  25  27  28  29  30  31  32  33  34  36  37  38\n",
      "  39  40  41  42  44  45  46  47  48  49  50  51  52  53  54  55  56  57\n",
      "  58  59  60  61  62  64  65  66  67  68  69  70  71  72  73  74  75  76\n",
      "  77  78  79  81  82  83  85  86  87  88  90  91  92  93  94  95  96  97\n",
      "  98  99 100 101 105 106 107 108 110 111 112 113 114 115 116 118 120 121\n",
      " 122 123 124 125 126 127 128 129 130 132 133 134 135 136 137 138 139 140\n",
      " 141 142 144 145 146 147 148 149 150 151 152 153 154 155 156 157 158 159\n",
      " 160 161 162 163 164 165 166 167 168 169 170 171 172 173 174 175 176 177\n",
      " 178 179 180 181 182 183 184 185 186 187 188 189 191 192 193 194 196 198\n",
      " 199 200 201 202 203 204 206 207 208 209 210 213 214 215 216 217 218 219\n",
      " 220 221 222 223 224 225 226 227 228 229 230 231 232 233 234 236 237 238\n",
      " 239 240 241 242 243 244 245 246 247 248 249 250 251 252 253 256 257 258\n",
      " 259 260 262 264 265 266 267 268 269 270 271 272 273 274 276 278 279 280\n",
      " 281 282 283 284 285 287 288 289 290 291 292 293 294 295 296 297 299 300\n",
      " 301 302 303 304 305 306 307 308 309 310 311 312 313 314 316 317 319 320\n",
      " 321 322 323 324 325 327 328 329 330 331 332 333 334 335 336 337 338 339\n",
      " 340 341 342 343 344 345 346 348 349 350 351 352 353]\n",
      "[  1   2   3   4   5   6   7   8   9  10  11  12  16  17  18  19  20  21\n",
      "  22  23  24  25  26  27  28  31  32  35  36  37  38  39  40  42  43  44\n",
      "  45  46  47  48  49  50  51  52  53  54  55  56  57  58  59  60  61  63\n",
      "  64  65  66  67  68  69  70  72  74  75  76  77  78  79  80  81  82  83\n",
      "  84  85  86  87  88  89  90  92  93  94  95  96  97  98  99 100 101 102\n",
      " 103 104 106 107 108 109 110 111 113 115 116 117 118 119 120 121 122 123\n",
      " 124 125 126 127 128 129 131 132 133 135 136 137 138 139 140 141 142 143\n",
      " 144 145 146 147 148 149 150 151 152 153 154 155 157 158 159 160 161 162\n",
      " 163 164 165 166 167 168 169 170 171 172 174 175 176 177 178 179 180 181\n",
      " 182 183 184 185 186 187 188 189 190 191 192 193 194 195 196 197 198 199\n",
      " 200 201 202 203 204 205 206 207 208 209 211 212 213 214 215 216 217 218\n",
      " 219 220 221 222 223 224 225 226 227 228 229 230 231 232 233 234 235 236\n",
      " 238 239 240 241 242 244 246 247 248 249 250 251 252 253 254 255 256 257\n",
      " 258 259 260 261 262 263 264 265 266 267 268 269 270 271 272 273 274 275\n",
      " 276 277 278 279 280 281 282 283 284 285 286 287 289 290 292 293 294 296\n",
      " 297 298 299 300 301 302 303 304 305 306 307 308 310 311 312 314 315 316\n",
      " 317 318 319 320 321 322 323 324 325 326 327 328 329 330 331 332 333 334\n",
      " 335 336 337 340 341 344 346 347 349 350 351 352 353]\n",
      "[  0   1   2   3   5   6   7   8   9  11  12  13  14  15  16  17  18  19\n",
      "  20  21  22  23  24  25  26  27  28  29  30  31  32  33  34  35  36  37\n",
      "  38  39  40  41  42  43  44  45  46  47  49  50  51  52  53  54  56  57\n",
      "  58  59  61  62  63  64  65  67  68  69  70  71  72  73  74  75  77  78\n",
      "  79  80  81  84  85  86  87  88  89  91  92  93  94  96  97  98  99 100\n",
      " 101 102 103 104 105 106 107 108 109 110 111 112 113 114 116 117 118 119\n",
      " 120 122 123 124 125 126 127 129 130 131 132 134 137 138 139 140 142 143\n",
      " 144 145 146 147 148 149 150 151 152 153 154 155 156 157 159 160 162 163\n",
      " 164 165 166 167 168 169 170 171 172 173 174 175 178 179 180 182 183 184\n",
      " 185 186 188 189 190 191 192 193 194 195 196 197 198 199 200 201 202 203\n",
      " 204 205 206 207 208 209 210 211 212 213 214 215 216 217 219 220 221 222\n",
      " 223 224 225 227 228 229 230 231 232 233 234 235 236 237 238 239 240 241\n",
      " 243 244 245 246 248 249 251 252 253 254 255 256 257 258 259 260 261 262\n",
      " 263 264 265 266 267 268 269 271 272 273 274 275 276 277 278 279 280 281\n",
      " 282 283 284 285 286 287 288 289 290 291 292 293 294 295 296 297 298 299\n",
      " 300 302 303 304 305 306 307 308 309 310 311 313 315 316 317 318 319 321\n",
      " 322 323 324 325 326 327 328 329 330 331 332 333 334 335 336 337 338 339\n",
      " 340 341 342 343 344 345 346 347 348 349 350 351 353]\n",
      "[  0   1   2   3   4   6   7   8   9  10  11  12  13  14  15  16  18  20\n",
      "  21  22  24  25  26  27  28  29  30  31  32  33  34  35  36  37  38  39\n",
      "  40  41  42  43  45  46  47  48  49  50  51  52  54  55  56  59  60  61\n",
      "  62  63  64  66  67  68  69  70  71  72  73  75  76  77  78  79  80  81\n",
      "  82  83  84  85  86  87  88  89  90  91  92  93  94  95  96  97  99 100\n",
      " 101 102 103 104 105 106 108 109 110 111 112 113 114 115 117 118 119 120\n",
      " 121 122 123 125 126 127 128 129 130 131 132 133 134 135 136 137 138 139\n",
      " 140 141 142 143 144 145 146 147 148 149 150 151 152 154 155 156 157 158\n",
      " 159 160 161 162 163 165 167 168 170 171 172 173 174 176 177 178 179 180\n",
      " 181 182 183 184 185 186 187 188 190 191 192 193 194 195 196 197 198 199\n",
      " 201 203 205 207 208 209 210 211 212 213 214 215 218 220 221 222 223 224\n",
      " 225 226 227 228 229 230 231 232 233 234 235 237 238 239 241 242 243 244\n",
      " 245 246 247 248 249 250 251 252 254 255 256 257 260 261 262 263 264 265\n",
      " 266 267 268 269 270 271 272 273 274 275 276 277 278 279 280 281 282 283\n",
      " 284 285 286 287 288 289 290 291 292 293 294 295 296 297 298 299 301 302\n",
      " 303 304 305 306 307 308 309 310 311 312 313 314 315 316 317 318 319 320\n",
      " 321 322 323 324 325 326 327 328 329 330 331 332 334 335 336 337 338 339\n",
      " 340 341 342 343 344 345 346 347 348 349 351 352 353]\n"
     ]
    }
   ],
   "source": [
    "for train_index, val_index in folds:\n",
    "        print(train_index)"
   ]
  },
  {
   "cell_type": "code",
   "execution_count": 21,
   "metadata": {
    "collapsed": false
   },
   "outputs": [],
   "source": [
    "scores = {}\n",
    "for k in kValues:\n",
    "    currentScores = []\n",
    "    for train_index, val_index in folds:\n",
    "        current_train_data, current_val_data = data_train_stand[train_index], data_train_stand[val_index]\n",
    "        current_train_price, current_val_price = price_train_stand[train_index], price_train_stand[val_index]\n",
    "        neigh = KNeighborsRegressor(n_neighbors = k)\n",
    "        neigh.fit(current_train_data, current_train_price)\n",
    "        guesses = neigh.predict(current_val_data)\n",
    "        rmse = np.sqrt(mean_squared_error(guesses, current_val_price))\n",
    "        currentScores.append(rmse)\n",
    "    scores[k] = currentScores"
   ]
  },
  {
   "cell_type": "markdown",
   "metadata": {},
   "source": [
    "# Plot Results\n",
    "\n",
    "Plot your training accuracy across all folds as a function of K. What do you see?"
   ]
  },
  {
   "cell_type": "code",
   "execution_count": 22,
   "metadata": {
    "collapsed": false
   },
   "outputs": [],
   "source": [
    "keys = sorted(scores.keys())\n",
    "means = []\n",
    "stdevs = []\n",
    "for each in keys:\n",
    "    current = scores[each]\n",
    "    means.append(np.mean(current)) \n",
    "    stdevs.append(np.std(current))"
   ]
  },
  {
   "cell_type": "code",
   "execution_count": 23,
   "metadata": {
    "collapsed": false
   },
   "outputs": [
    {
     "data": {
      "text/plain": [
       "<matplotlib.text.Text at 0x1450704fd68>"
      ]
     },
     "execution_count": 23,
     "metadata": {},
     "output_type": "execute_result"
    },
    {
     "data": {
      "image/png": "[encoded data removed]",
      "text/plain": [
       "<matplotlib.figure.Figure at 0x1450702b208>"
      ]
     },
     "metadata": {},
     "output_type": "display_data"
    }
   ],
   "source": [
    "figure = plt.figure()\n",
    "plt.plot(keys, means, 'bo:')\n",
    "plt.xlabel('K')\n",
    "plt.ylabel('Normalized RMSE')\n",
    "plt.title('Error as a function of # of neighbors')"
   ]
  },
  {
   "cell_type": "code",
   "execution_count": 24,
   "metadata": {
    "collapsed": false
   },
   "outputs": [
    {
     "data": {
      "image/png": "[encoded data removed]",
      "text/plain": [
       "<matplotlib.figure.Figure at 0x14508898f98>"
      ]
     },
     "metadata": {},
     "output_type": "display_data"
    }
   ],
   "source": [
    "figure = plt.figure()\n",
    "plt.plot(keys, means, 'bo:')\n",
    "plt.xlabel('K')\n",
    "plt.ylabel('Normalized RMSE')\n",
    "plt.title('Error as a function of # of neighbors')\n",
    "plt.xlim([0, 10]);"
   ]
  },
  {
   "cell_type": "code",
   "execution_count": null,
   "metadata": {
    "collapsed": true
   },
   "outputs": [],
   "source": []
  }
 ],
 "metadata": {
  "anaconda-cloud": {},
  "kernelspec": {
   "display_name": "Python [conda root]",
   "language": "python",
   "name": "conda-root-py"
  },
  "language_info": {
   "codemirror_mode": {
    "name": "ipython",
    "version": 3
   },
   "file_extension": ".py",
   "mimetype": "text/x-python",
   "name": "python",
   "nbconvert_exporter": "python",
   "pygments_lexer": "ipython3",
   "version": "3.5.2"
  }
 },
 "nbformat": 4,
 "nbformat_minor": 0
}
