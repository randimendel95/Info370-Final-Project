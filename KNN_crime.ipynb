{
 "cells": [
  {
   "cell_type": "markdown",
   "metadata": {},
   "source": [
    "# Import"
   ]
  },
  {
   "cell_type": "code",
   "execution_count": 1,
   "metadata": {
    "collapsed": false
   },
   "outputs": [],
   "source": [
    "from sklearn.datasets import load_boston\n",
    "from sklearn.cross_validation import train_test_split\n",
    "from sklearn.preprocessing import scale\n",
    "from sklearn.neighbors import KNeighborsRegressor\n",
    "from sklearn.metrics import mean_squared_error\n",
    "from sklearn.cross_validation import KFold\n",
    "import matplotlib.pyplot as plt\n",
    "import numpy as np\n",
    "%matplotlib inline\n",
    "import pandas as pd"
   ]
  },
  {
   "cell_type": "markdown",
   "metadata": {},
   "source": [
    "# Data\n",
    "\n",
    "Read in our univeristy and crime data as a dataframe, then split the outcomes and the features into arrays. ONly using 2 feautures for now, since we can only use quantitative data at the moment.... to be added later."
   ]
  },
  {
   "cell_type": "code",
   "execution_count": 3,
   "metadata": {
    "collapsed": false
   },
   "outputs": [
    {
     "name": "stdout",
     "output_type": "stream",
     "text": [
      "      Unnamed: 0  UNITID                                             INSTNM  \\\n",
      "0              1  100654                           Alabama A & M University   \n",
      "1              2  100663                University of Alabama at Birmingham   \n",
      "2              3  100690                                 Amridge University   \n",
      "3              4  100706                University of Alabama in Huntsville   \n",
      "4              5  100724                           Alabama State University   \n",
      "5              6  100751                          The University of Alabama   \n",
      "6              7  100760                  Central Alabama Community College   \n",
      "7              8  100812                            Athens State University   \n",
      "8              9  100830                    Auburn University at Montgomery   \n",
      "9             10  100858                                  Auburn University   \n",
      "10            11  100937                        Birmingham Southern College   \n",
      "11            12  101028             Chattahoochee Valley Community College   \n",
      "12            13  101073                          Concordia College Alabama   \n",
      "13            14  101116                        South University-Montgomery   \n",
      "14            15  101143                 Enterprise State Community College   \n",
      "15            16  101161           James H Faulkner State Community College   \n",
      "16            17  101189                                Faulkner University   \n",
      "17            18  101240                    Gadsden State Community College   \n",
      "18            19  101277               New Beginning College of Cosmetology   \n",
      "19            20  101286    George C Wallace State Community College-Dothan   \n",
      "20            21  101295  George C Wallace State Community College-Hance...   \n",
      "21            22  101301     George C Wallace State Community College-Selma   \n",
      "22            23  101365                      Herzing University-Birmingham   \n",
      "23            24  101435                                 Huntingdon College   \n",
      "24            25  101462    J F Drake State Community and Technical College   \n",
      "25            26  101480                      Jacksonville State University   \n",
      "26            27  101499                  Jefferson Davis Community College   \n",
      "27            28  101505                  Jefferson State Community College   \n",
      "28            29  101514             John C Calhoun State Community College   \n",
      "29            30  101541                                     Judson College   \n",
      "...          ...     ...                                                ...   \n",
      "5761        5762  484686                    University of Phoenix-Louisiana   \n",
      "5762        5763  484695                     University of Phoenix-Michigan   \n",
      "5763        5764  484701                     University of Phoenix-Missouri   \n",
      "5764        5765  484710                       University of Phoenix-Nevada   \n",
      "5765        5766  484729               University of Phoenix-North Carolina   \n",
      "5766        5767  484738                     University of Phoenix-Oklahoma   \n",
      "5767        5768  484747                    University of Phoenix-Tennessee   \n",
      "5768        5769  484756                        University of Phoenix-Texas   \n",
      "5769        5770  484765                     University of Phoenix-Virginia   \n",
      "5770        5771  484783                 University of Phoenix-Pennsylvania   \n",
      "5771        5772  484826        Tint School of Makeup & Cosmetology-Seattle   \n",
      "5772        5773  484899                            Aveda Institute Phoenix   \n",
      "5773        5774  484932         BridgeValley Community & Technical College   \n",
      "5774        5775  484950                          Northwest College-Medford   \n",
      "5775        5776  484996                   Houston Training Schools-Gessner   \n",
      "5776        5777  485014                       Empire Beauty School-Buffalo   \n",
      "5777        5778  485032                    Paul Mitchell the School-Toledo   \n",
      "5778        5779  485078           Trine University-Arizona Regional Campus   \n",
      "5779        5780  485087              Regency Beauty Institute-Gaithersburg   \n",
      "5780        5781  485111                           Georgia Military College   \n",
      "5781        5782  485120              New Horizons Medical Institute-Winder   \n",
      "5782        5783  485139                SAE Institute of Technology-Chicago   \n",
      "5783        5784  485184         Fayette Beauty Academy-Ritz Beauty Academy   \n",
      "5784        5785  485193         Fayette Beauty Academy-Ritz Beauty Academy   \n",
      "5785        5786  485245                Cosmopolitan Beauty and Tech School   \n",
      "5786        5787  485263                       California College San Diego   \n",
      "5787        5788  485379  Hollywood Institute of Beauty Careers-West Pal...   \n",
      "5788        5789  485388  Hollywood Institute of Beauty Careers-Casselberry   \n",
      "5789        5790  485412           Coachella Valley Beauty College-Beaumont   \n",
      "5790        5791  485458                    Coastal Pines Technical College   \n",
      "\n",
      "      crime_rate  student_pop  Public  Private non-profit  Private for-profit  \\\n",
      "0       3.562723         5333       1                   0                   0   \n",
      "1       1.604450        18698       1                   0                   0   \n",
      "2       0.000000          625       0                   1                   0   \n",
      "3       4.627109         7348       1                   0                   0   \n",
      "4      15.038956         5519       1                   0                   0   \n",
      "5       2.247066        36047       1                   0                   0   \n",
      "6       0.000000         1726       1                   0                   0   \n",
      "7       0.000000         3128       1                   0                   0   \n",
      "8       0.790983         5057       1                   0                   0   \n",
      "9       1.582278        25912       1                   0                   0   \n",
      "10      3.375527         1185       0                   1                   0   \n",
      "11      0.000000         1805       1                   0                   0   \n",
      "12     51.282051          546       0                   1                   0   \n",
      "13      0.000000          624       0                   0                   1   \n",
      "14      0.000000         2011       1                   0                   0   \n",
      "15      0.892658         4481       1                   0                   0   \n",
      "16      0.599700         3335       0                   1                   0   \n",
      "17      4.915863         5289       1                   0                   0   \n",
      "18      0.000000          115       0                   0                   1   \n",
      "19      0.000000         4854       1                   0                   0   \n",
      "20      0.374322         5343       1                   0                   0   \n",
      "21      0.000000         1663       1                   0                   0   \n",
      "22      0.000000          309       0                   0                   1   \n",
      "23      6.896552         1160       0                   1                   0   \n",
      "24      0.000000         1062       1                   0                   0   \n",
      "25      2.078762         8659       1                   0                   0   \n",
      "26      9.208103         1086       1                   0                   0   \n",
      "27      0.117426         8516       1                   0                   0   \n",
      "28      0.092575        10802       1                   0                   0   \n",
      "29      5.291005          378       0                   1                   0   \n",
      "...          ...          ...     ...                 ...                 ...   \n",
      "5761    0.000000         1028       0                   0                   1   \n",
      "5762    0.734754         1361       0                   0                   1   \n",
      "5763    0.000000         1020       0                   0                   1   \n",
      "5764    0.000000         2090       0                   0                   1   \n",
      "5765    0.000000          772       0                   0                   1   \n",
      "5766    0.000000          471       0                   0                   1   \n",
      "5767    0.000000         2485       0                   0                   1   \n",
      "5768    0.380662         5254       0                   0                   1   \n",
      "5769    0.000000         1357       0                   0                   1   \n",
      "5770    0.000000          669       0                   0                   1   \n",
      "5771   73.684211           95       0                   0                   1   \n",
      "5772   11.363636          176       0                   0                   1   \n",
      "5773    0.000000         2344       1                   0                   0   \n",
      "5774    0.000000           50       0                   0                   1   \n",
      "5775    0.000000           90       0                   0                   1   \n",
      "5776    0.000000           53       0                   0                   1   \n",
      "5777   17.543860          114       0                   0                   1   \n",
      "5778    0.000000          135       0                   1                   0   \n",
      "5779    0.000000           40       0                   0                   1   \n",
      "5780    0.550812         7262       1                   0                   0   \n",
      "5781    0.000000          206       0                   0                   1   \n",
      "5782    0.000000          118       0                   0                   1   \n",
      "5783    0.000000           19       0                   0                   1   \n",
      "5784    0.000000            7       0                   0                   1   \n",
      "5785    0.000000           26       0                   0                   1   \n",
      "5786    0.000000          912       0                   1                   0   \n",
      "5787    0.000000           55       0                   0                   1   \n",
      "5788    0.000000           75       0                   0                   1   \n",
      "5789    0.000000           67       0                   0                   1   \n",
      "5790    0.000000         2431       1                   0                   0   \n",
      "\n",
      "      control  fin_indep  pre_degree  firstgen_pct    fam_income  \n",
      "0           1   0.129593           3      0.394034  21595.331860  \n",
      "1           1   0.311615           3      0.357159  34491.401200  \n",
      "2           2   0.894260           3      0.602410  15191.782760  \n",
      "3           1   0.348569           3      0.342919  36239.771820  \n",
      "4           1   0.143531           3      0.380558  21737.277370  \n",
      "5           1   0.148414           3      0.244552  63166.006720  \n",
      "6           1   0.394334           2      0.560566  18481.051320  \n",
      "7           1   0.712364           3      0.471595  29270.712730  \n",
      "8           1   0.277585           3      0.387300  25555.250530  \n",
      "9           1   0.088724           3      0.198874  66831.188720  \n",
      "10          2   0.024331           3      0.200000  70831.325820  \n",
      "11          1   0.500308           2      0.442321  19992.121840  \n",
      "12          2   0.164179           3      0.533477  15246.551800  \n",
      "13          3   0.771980           2      0.487443  18693.844220  \n",
      "14          1   0.444684           2      0.453479  19973.639920  \n",
      "15          1   0.382659           2      0.458455  21460.951930  \n",
      "16          2   0.580021           3      0.431336  23765.734650  \n",
      "17          1   0.499850           2      0.536090  14834.596240  \n",
      "18          3   0.519737           1      0.550388  17611.208320  \n",
      "19          1   0.473439           2      0.529711  15747.913660  \n",
      "20          1   0.415922           2      0.529018  24195.457860  \n",
      "21          1   0.361131           2      0.505000  14055.186350  \n",
      "22          3   0.860031           1      0.527798  16935.389800  \n",
      "23          2   0.290936           3      0.327559  39106.443260  \n",
      "24          1   0.691358           2      0.593679  13551.124980  \n",
      "25          1   0.270138           3      0.413028  35079.883250  \n",
      "26          1   0.437236           2      0.550082  15957.342460  \n",
      "27          1   0.448910           2      0.487376  22229.278040  \n",
      "28          1   0.455607           2      0.491895  22153.822920  \n",
      "29          2   0.521127           3      0.460581  15917.220580  \n",
      "...       ...        ...         ...           ...           ...  \n",
      "5761        3   0.912558           3      0.541667  16789.831130  \n",
      "5762        3   0.912558           3      0.541667  16789.831130  \n",
      "5763        3   0.912558           3      0.541667  16789.831130  \n",
      "5764        3   0.912558           3      0.541667  16789.831130  \n",
      "5765        3   0.912558           3      0.541667  16789.831130  \n",
      "5766        3   0.912558           3      0.541667  16789.831130  \n",
      "5767        3   0.912558           3      0.541667  16789.831130  \n",
      "5768        3   0.912558           3      0.541667  16789.831130  \n",
      "5769        3   0.912558           3      0.541667  16789.831130  \n",
      "5770        3   0.912558           3      0.541667  16789.831130  \n",
      "5771        3   0.683128           1      0.474860  16541.039360  \n",
      "5772        3   0.518124           1      0.450839  24775.943620  \n",
      "5773        1   0.538353           2      0.553883  23506.659030  \n",
      "5774        3   0.627424           1      0.503413  14364.558760  \n",
      "5775        3   0.813261           1      0.669251  12776.862190  \n",
      "5776        3   0.616079           0      0.532520  10076.582740  \n",
      "5777        3   0.508230           1      0.525959  20810.680460  \n",
      "5778        2   0.247432           3      0.359389  58986.920760  \n",
      "5779        3   0.637931           1      0.465608   9524.285661  \n",
      "5780        1   0.463342           2      0.428764  21042.448150  \n",
      "5781        3   0.836923           1      0.589844  14436.116480  \n",
      "5782        3   0.515351           2      0.409574  18863.784080  \n",
      "5783        3   0.795918           0      0.518325  10861.154290  \n",
      "5784        3   0.795918           1      0.518325  10861.154290  \n",
      "5785        3   0.940092           1      0.934066  17437.102660  \n",
      "5786        2   0.693114           2      0.538916  19682.830630  \n",
      "5787        3   0.774730           1      0.545244  12424.103400  \n",
      "5788        3   0.774730           1      0.545244  12424.103400  \n",
      "5789        3   0.503106           1      0.704000  17647.290550  \n",
      "5790        1   0.636593           1      0.542373  15463.889830  \n",
      "\n",
      "[5791 rows x 13 columns]\n"
     ]
    }
   ],
   "source": [
    "df = pd.read_csv('cleaned_control.csv', encoding='iso-8859-1')\n",
    "\n",
    "print(df)"
   ]
  },
  {
   "cell_type": "code",
   "execution_count": 21,
   "metadata": {
    "collapsed": false
   },
   "outputs": [
    {
     "name": "stdout",
     "output_type": "stream",
     "text": [
      "[ 3.56272267  1.60444967  0.         ...,  0.          0.          0.        ]\n"
     ]
    }
   ],
   "source": [
    "crime = df['crime_rate'] #outcomes\n",
    "crime_rate = np.array(crime)\n",
    "print(crime_rate)"
   ]
  },
  {
   "cell_type": "code",
   "execution_count": 37,
   "metadata": {
    "collapsed": false
   },
   "outputs": [
    {
     "name": "stdout",
     "output_type": "stream",
     "text": [
      "[[  1.29593046e-01   5.33300000e+03   1.00000000e+00 ...,   0.00000000e+00\n",
      "    3.94033838e-01   2.15953319e+04]\n",
      " [  3.11615321e-01   1.86980000e+04   1.00000000e+00 ...,   0.00000000e+00\n",
      "    3.57158862e-01   3.44914012e+04]\n",
      " [  8.94259819e-01   6.25000000e+02   0.00000000e+00 ...,   0.00000000e+00\n",
      "    6.02409639e-01   1.51917828e+04]\n",
      " ..., \n",
      " [  7.74729842e-01   7.50000000e+01   0.00000000e+00 ...,   1.00000000e+00\n",
      "    5.45243620e-01   1.24241034e+04]\n",
      " [  5.03105590e-01   6.70000000e+01   0.00000000e+00 ...,   1.00000000e+00\n",
      "    7.04000000e-01   1.76472906e+04]\n",
      " [  6.36593060e-01   2.43100000e+03   1.00000000e+00 ...,   0.00000000e+00\n",
      "    5.42372881e-01   1.54638898e+04]]\n"
     ]
    }
   ],
   "source": [
    "feature = df.drop('crime_rate',axis=1) #variables\n",
    "#features = feature.to_dict()['fin_indep']\n",
    "features = np.array(feature[['fin_indep','student_pop','Public','Private non-profit','Private for-profit', 'firstgen_pct','fam_income']])\n",
    "print(features)"
   ]
  },
  {
   "cell_type": "markdown",
   "metadata": {},
   "source": [
    "# Train-Test split\n",
    "\n",
    "Split 80-20 train and test data, to use for model."
   ]
  },
  {
   "cell_type": "code",
   "execution_count": 23,
   "metadata": {
    "collapsed": false
   },
   "outputs": [],
   "source": [
    "#split train and test data\n",
    "feat_train, feat_test, crime_train, crime_test = train_test_split(features, crime_rate, test_size = 0.2, random_state=11)"
   ]
  },
  {
   "cell_type": "code",
   "execution_count": 24,
   "metadata": {
    "collapsed": false
   },
   "outputs": [
    {
     "name": "stdout",
     "output_type": "stream",
     "text": [
      "[[  6.11242604e-01   5.76000000e+02   0.00000000e+00 ...,   1.00000000e+00\n",
      "    6.13023256e-01   1.37088263e+04]\n",
      " [  7.66233766e-01   2.20100000e+03   1.00000000e+00 ...,   0.00000000e+00\n",
      "    4.97227357e-01   1.40964664e+04]\n",
      " [  6.80203046e-01   8.59000000e+02   0.00000000e+00 ...,   0.00000000e+00\n",
      "    3.59550562e-01   2.88340367e+04]\n",
      " ..., \n",
      " [  8.44897959e-01   7.00000000e+01   0.00000000e+00 ...,   1.00000000e+00\n",
      "    6.43979058e-01   1.87216946e+04]\n",
      " [  6.68478261e-01   1.31000000e+02   0.00000000e+00 ...,   1.00000000e+00\n",
      "    5.13888889e-01   1.89719820e+04]\n",
      " [  6.23847572e-01   5.47500000e+03   1.00000000e+00 ...,   0.00000000e+00\n",
      "    5.28643945e-01   1.52370034e+04]]\n",
      "(1159, 7)\n",
      "(4632,)\n",
      "(1159,)\n"
     ]
    }
   ],
   "source": [
    "#features set\n",
    "print(feat_train)\n",
    "print(feat_test.shape)\n",
    "#outcome set\n",
    "print(crime_train.shape)\n",
    "print(crime_test.shape)"
   ]
  },
  {
   "cell_type": "markdown",
   "metadata": {},
   "source": [
    "# Scaling/Standardize"
   ]
  },
  {
   "cell_type": "code",
   "execution_count": 25,
   "metadata": {
    "collapsed": false
   },
   "outputs": [],
   "source": [
    "mins = np.min(feat_train, axis = 0)\n",
    "maxes = np.max(feat_train, axis = 0)\n",
    "diff = maxes - mins"
   ]
  },
  {
   "cell_type": "code",
   "execution_count": 26,
   "metadata": {
    "collapsed": false
   },
   "outputs": [
    {
     "data": {
      "text/plain": [
       "array([  9.61869136e-01,   1.95058000e+05,   1.00000000e+00,\n",
       "         1.00000000e+00,   1.00000000e+00,   9.09209337e-01,\n",
       "         1.22247223e+05])"
      ]
     },
     "execution_count": 26,
     "metadata": {},
     "output_type": "execute_result"
    }
   ],
   "source": [
    "diff"
   ]
  },
  {
   "cell_type": "code",
   "execution_count": 27,
   "metadata": {
    "collapsed": false
   },
   "outputs": [],
   "source": [
    "feat_train_stand = (feat_train - mins) / diff\n",
    "feat_test_stand = (feat_test - mins) / diff"
   ]
  },
  {
   "cell_type": "code",
   "execution_count": 28,
   "metadata": {
    "collapsed": false
   },
   "outputs": [],
   "source": [
    "minCrime = np.min(crime_train)\n",
    "maxCrime = np.max(crime_train)\n",
    "diffCrime = maxCrime - minCrime"
   ]
  },
  {
   "cell_type": "code",
   "execution_count": 29,
   "metadata": {
    "collapsed": true
   },
   "outputs": [],
   "source": [
    "crime_train_stand = (crime_train - minCrime) / diffCrime\n",
    "crime_test_stand = (crime_test - minCrime) / diffCrime"
   ]
  },
  {
   "cell_type": "markdown",
   "metadata": {},
   "source": [
    "# K-Fold Cross Validation\n"
   ]
  },
  {
   "cell_type": "code",
   "execution_count": 40,
   "metadata": {
    "collapsed": true
   },
   "outputs": [],
   "source": [
    "kValues = [10,20,30,40,50,70, 100, 200, 3000, 4000]"
   ]
  },
  {
   "cell_type": "code",
   "execution_count": 41,
   "metadata": {
    "collapsed": false,
    "scrolled": true
   },
   "outputs": [
    {
     "name": "stdout",
     "output_type": "stream",
     "text": [
      "sklearn.cross_validation.KFold(n=4632, n_folds=10, shuffle=True, random_state=None)\n"
     ]
    }
   ],
   "source": [
    "folds = KFold(len(feat_train), n_folds = 10, shuffle = True)\n",
    "print(folds)"
   ]
  },
  {
   "cell_type": "code",
   "execution_count": 42,
   "metadata": {
    "collapsed": false
   },
   "outputs": [
    {
     "name": "stdout",
     "output_type": "stream",
     "text": [
      "[   0    1    2 ..., 4628 4629 4631]\n",
      "[   0    1    2 ..., 4627 4628 4630]\n",
      "[   0    1    2 ..., 4629 4630 4631]\n",
      "[   0    1    2 ..., 4629 4630 4631]\n",
      "[   0    1    3 ..., 4629 4630 4631]\n",
      "[   0    1    2 ..., 4629 4630 4631]\n",
      "[   0    1    2 ..., 4629 4630 4631]\n",
      "[   1    2    3 ..., 4629 4630 4631]\n",
      "[   0    2    3 ..., 4629 4630 4631]\n",
      "[   0    1    2 ..., 4629 4630 4631]\n"
     ]
    }
   ],
   "source": [
    "for train_index, val_index in folds:\n",
    "        print(train_index)"
   ]
  },
  {
   "cell_type": "code",
   "execution_count": null,
   "metadata": {
    "collapsed": false
   },
   "outputs": [],
   "source": [
    "scores = {}\n",
    "for k in kValues:\n",
    "    currentScores = []\n",
    "    for train_index, val_index in folds:\n",
    "        current_train_feat = feat_train_stand[train_index]\n",
    "        current_val_feat = feat_train_stand[val_index]\n",
    "        current_train_crime, current_val_crime = crime_train[train_index], crime_train[val_index]\n",
    "        neigh = KNeighborsRegressor(n_neighbors = k)\n",
    "        print(neigh)\n",
    "        neigh.fit(current_train_feat, current_train_crime)\n",
    "        guesses = neigh.predict(current_val_feat)\n",
    "        rmse = np.sqrt(mean_squared_error(guesses, current_val_crime))\n",
    "        currentScores.append(rmse)\n",
    "    scores[k] = currentScores"
   ]
  },
  {
   "cell_type": "markdown",
   "metadata": {},
   "source": [
    "# Plotting Error"
   ]
  },
  {
   "cell_type": "code",
   "execution_count": 34,
   "metadata": {
    "collapsed": false
   },
   "outputs": [],
   "source": [
    "keys = sorted(scores.keys())\n",
    "means = []\n",
    "stdevs = []\n",
    "for each in keys:\n",
    "    current = scores[each]\n",
    "    means.append(np.mean(current)) \n",
    "    stdevs.append(np.std(current))"
   ]
  },
  {
   "cell_type": "code",
   "execution_count": 35,
   "metadata": {
    "collapsed": false
   },
   "outputs": [
    {
     "data": {
      "text/plain": [
       "<matplotlib.text.Text at 0x18b8816de10>"
      ]
     },
     "execution_count": 35,
     "metadata": {},
     "output_type": "execute_result"
    },
    {
     "data": {
      "image/png": "[encoded data removed]",
      "text/plain": [
       "<matplotlib.figure.Figure at 0x18b880e3cc0>"
      ]
     },
     "metadata": {},
     "output_type": "display_data"
    }
   ],
   "source": [
    "figure = plt.figure()\n",
    "plt.plot(keys, means, 'bo:')\n",
    "plt.xlabel('K')\n",
    "plt.ylabel('Normalized RMSE')\n",
    "plt.title('Error as a function of # of neighbors')"
   ]
  },
  {
   "cell_type": "code",
   "execution_count": 39,
   "metadata": {
    "collapsed": false
   },
   "outputs": [
    {
     "data": {
      "image/png": "[encoded data removed]",
      "text/plain": [
       "<matplotlib.figure.Figure at 0x18b88273a20>"
      ]
     },
     "metadata": {},
     "output_type": "display_data"
    }
   ],
   "source": [
    "figure = plt.figure()\n",
    "plt.plot(keys, means, 'bo:')\n",
    "plt.xlabel('K')\n",
    "plt.ylabel('Normalized RMSE')\n",
    "plt.title('Error as a function of # of neighbors')\n",
    "plt.xlim([50,100]);"
   ]
  },
  {
   "cell_type": "markdown",
   "metadata": {
    "collapsed": true
   },
   "source": [
    "From this, somewhere around 100-150 would be our ideal K neighbors, however this is probably a very inaccurate model since we only consider 2 features. "
   ]
  },
  {
   "cell_type": "code",
   "execution_count": null,
   "metadata": {
    "collapsed": true
   },
   "outputs": [],
   "source": []
  }
 ],
 "metadata": {
  "anaconda-cloud": {},
  "kernelspec": {
   "display_name": "Python [conda root]",
   "language": "python",
   "name": "conda-root-py"
  },
  "language_info": {
   "codemirror_mode": {
    "name": "ipython",
    "version": 3
   },
   "file_extension": ".py",
   "mimetype": "text/x-python",
   "name": "python",
   "nbconvert_exporter": "python",
   "pygments_lexer": "ipython3",
   "version": "3.5.2"
  }
 },
 "nbformat": 4,
 "nbformat_minor": 0
}
