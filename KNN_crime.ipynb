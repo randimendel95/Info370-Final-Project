{
 "cells": [
  {
   "cell_type": "markdown",
   "metadata": {},
   "source": [
    "# Import"
   ]
  },
  {
   "cell_type": "code",
   "execution_count": 1,
   "metadata": {
    "collapsed": false
   },
   "outputs": [],
   "source": [
    "from sklearn.datasets import load_boston\n",
    "from sklearn.cross_validation import train_test_split\n",
    "from sklearn.preprocessing import scale\n",
    "from sklearn.neighbors import KNeighborsRegressor\n",
    "from sklearn.metrics import mean_squared_error\n",
    "from sklearn.cross_validation import KFold\n",
    "import matplotlib.pyplot as plt\n",
    "import numpy as np\n",
    "%matplotlib inline\n",
    "import pandas as pd"
   ]
  },
  {
   "cell_type": "markdown",
   "metadata": {},
   "source": [
    "# Data\n",
    "\n",
    "Read in our univeristy and crime data as a dataframe, then split the outcomes and the features into arrays. ONly using 2 feautures for now, since we can only use quantitative data at the moment.... to be added later."
   ]
  },
  {
   "cell_type": "code",
   "execution_count": 7,
   "metadata": {
    "collapsed": false
   },
   "outputs": [
    {
     "name": "stdout",
     "output_type": "stream",
     "text": [
      "      Unnamed: 0  UNITID                                             INSTNM  \\\n",
      "0              1  100654                           Alabama A & M University   \n",
      "1              2  100663                University of Alabama at Birmingham   \n",
      "2              3  100690                                 Amridge University   \n",
      "3              4  100706                University of Alabama in Huntsville   \n",
      "4              5  100724                           Alabama State University   \n",
      "5              6  100751                          The University of Alabama   \n",
      "6              7  100760                  Central Alabama Community College   \n",
      "7              8  100812                            Athens State University   \n",
      "8              9  100830                    Auburn University at Montgomery   \n",
      "9             10  100858                                  Auburn University   \n",
      "10            11  100937                        Birmingham Southern College   \n",
      "11            12  101028             Chattahoochee Valley Community College   \n",
      "12            13  101073                          Concordia College Alabama   \n",
      "13            14  101116                        South University-Montgomery   \n",
      "14            15  101143                 Enterprise State Community College   \n",
      "15            16  101161           James H Faulkner State Community College   \n",
      "16            17  101189                                Faulkner University   \n",
      "17            18  101240                    Gadsden State Community College   \n",
      "18            19  101277               New Beginning College of Cosmetology   \n",
      "19            20  101286    George C Wallace State Community College-Dothan   \n",
      "20            21  101295  George C Wallace State Community College-Hance...   \n",
      "21            22  101301     George C Wallace State Community College-Selma   \n",
      "22            23  101365                      Herzing University-Birmingham   \n",
      "23            24  101435                                 Huntingdon College   \n",
      "24            25  101462    J F Drake State Community and Technical College   \n",
      "25            26  101480                      Jacksonville State University   \n",
      "26            27  101499                  Jefferson Davis Community College   \n",
      "27            28  101505                  Jefferson State Community College   \n",
      "28            29  101514             John C Calhoun State Community College   \n",
      "29            30  101541                                     Judson College   \n",
      "...          ...     ...                                                ...   \n",
      "5760        5761  484686                    University of Phoenix-Louisiana   \n",
      "5761        5762  484695                     University of Phoenix-Michigan   \n",
      "5762        5763  484701                     University of Phoenix-Missouri   \n",
      "5763        5764  484710                       University of Phoenix-Nevada   \n",
      "5764        5765  484729               University of Phoenix-North Carolina   \n",
      "5765        5766  484738                     University of Phoenix-Oklahoma   \n",
      "5766        5767  484747                    University of Phoenix-Tennessee   \n",
      "5767        5768  484756                        University of Phoenix-Texas   \n",
      "5768        5769  484765                     University of Phoenix-Virginia   \n",
      "5769        5770  484783                 University of Phoenix-Pennsylvania   \n",
      "5770        5771  484826        Tint School of Makeup & Cosmetology-Seattle   \n",
      "5771        5772  484899                            Aveda Institute Phoenix   \n",
      "5772        5773  484932         BridgeValley Community & Technical College   \n",
      "5773        5774  484950                          Northwest College-Medford   \n",
      "5774        5775  484996                   Houston Training Schools-Gessner   \n",
      "5775        5776  485014                       Empire Beauty School-Buffalo   \n",
      "5776        5777  485032                    Paul Mitchell the School-Toledo   \n",
      "5777        5778  485078           Trine University-Arizona Regional Campus   \n",
      "5778        5779  485087              Regency Beauty Institute-Gaithersburg   \n",
      "5779        5780  485111                           Georgia Military College   \n",
      "5780        5781  485120              New Horizons Medical Institute-Winder   \n",
      "5781        5782  485139                SAE Institute of Technology-Chicago   \n",
      "5782        5783  485184         Fayette Beauty Academy-Ritz Beauty Academy   \n",
      "5783        5784  485193         Fayette Beauty Academy-Ritz Beauty Academy   \n",
      "5784        5785  485245                Cosmopolitan Beauty and Tech School   \n",
      "5785        5786  485263                       California College San Diego   \n",
      "5786        5787  485379  Hollywood Institute of Beauty Careers-West Pal...   \n",
      "5787        5788  485388  Hollywood Institute of Beauty Careers-Casselberry   \n",
      "5788        5789  485412           Coachella Valley Beauty College-Beaumont   \n",
      "5789        5790  485458                    Coastal Pines Technical College   \n",
      "\n",
      "                                    sector  crime_rate  student_pop  \\\n",
      "0                  Public, 4-year or above    3.562723         5333   \n",
      "1                  Public, 4-year or above    1.604450        18698   \n",
      "2       Private nonprofit, 4-year or above    0.000000          625   \n",
      "3                  Public, 4-year or above    4.627109         7348   \n",
      "4                  Public, 4-year or above   15.038956         5519   \n",
      "5                  Public, 4-year or above    2.247066        36047   \n",
      "6                           Public, 2-year    0.000000         1726   \n",
      "7                  Public, 4-year or above    0.000000         3128   \n",
      "8                  Public, 4-year or above    0.790983         5057   \n",
      "9                  Public, 4-year or above    1.582278        25912   \n",
      "10      Private nonprofit, 4-year or above    3.375527         1185   \n",
      "11                          Public, 2-year    0.000000         1805   \n",
      "12      Private nonprofit, 4-year or above   51.282051          546   \n",
      "13     Private for-profit, 4-year or above    0.000000          624   \n",
      "14                          Public, 2-year    0.000000         2011   \n",
      "15                          Public, 2-year    0.892658         4481   \n",
      "16      Private nonprofit, 4-year or above    0.599700         3335   \n",
      "17                          Public, 2-year    4.915863         5289   \n",
      "18    Private for-profit, less-than 2-year    0.000000          115   \n",
      "19                          Public, 2-year    0.000000         4854   \n",
      "20                          Public, 2-year    0.374322         5343   \n",
      "21                          Public, 2-year    0.000000         1663   \n",
      "22     Private for-profit, 4-year or above    0.000000          309   \n",
      "23      Private nonprofit, 4-year or above    6.896552         1160   \n",
      "24                          Public, 2-year    0.000000         1062   \n",
      "25                 Public, 4-year or above    2.078762         8659   \n",
      "26                          Public, 2-year    9.208103         1086   \n",
      "27                          Public, 2-year    0.117426         8516   \n",
      "28                          Public, 2-year    0.092575        10802   \n",
      "29      Private nonprofit, 4-year or above    5.291005          378   \n",
      "...                                    ...         ...          ...   \n",
      "5760   Private for-profit, 4-year or above    0.000000         1028   \n",
      "5761   Private for-profit, 4-year or above    0.734754         1361   \n",
      "5762   Private for-profit, 4-year or above    0.000000         1020   \n",
      "5763   Private for-profit, 4-year or above    0.000000         2090   \n",
      "5764   Private for-profit, 4-year or above    0.000000          772   \n",
      "5765   Private for-profit, 4-year or above    0.000000          471   \n",
      "5766   Private for-profit, 4-year or above    0.000000         2485   \n",
      "5767   Private for-profit, 4-year or above    0.380662         5254   \n",
      "5768   Private for-profit, 4-year or above    0.000000         1357   \n",
      "5769   Private for-profit, 4-year or above    0.000000          669   \n",
      "5770  Private for-profit, less-than 2-year   73.684211           95   \n",
      "5771  Private for-profit, less-than 2-year   11.363636          176   \n",
      "5772                        Public, 2-year    0.000000         2344   \n",
      "5773            Private for-profit, 2-year    0.000000           50   \n",
      "5774  Private for-profit, less-than 2-year    0.000000           90   \n",
      "5775  Private for-profit, less-than 2-year    0.000000           53   \n",
      "5776  Private for-profit, less-than 2-year   17.543860          114   \n",
      "5777    Private nonprofit, 4-year or above    0.000000          135   \n",
      "5778  Private for-profit, less-than 2-year    0.000000           40   \n",
      "5779                        Public, 2-year    0.550812         7262   \n",
      "5780  Private for-profit, less-than 2-year    0.000000          206   \n",
      "5781            Private for-profit, 2-year    0.000000          118   \n",
      "5782  Private for-profit, less-than 2-year    0.000000           19   \n",
      "5783  Private for-profit, less-than 2-year    0.000000            7   \n",
      "5784  Private for-profit, less-than 2-year    0.000000           26   \n",
      "5785    Private nonprofit, 4-year or above    0.000000          912   \n",
      "5786  Private for-profit, less-than 2-year    0.000000           55   \n",
      "5787  Private for-profit, less-than 2-year    0.000000           75   \n",
      "5788  Private for-profit, less-than 2-year    0.000000           67   \n",
      "5789                        Public, 2-year    0.000000         2431   \n",
      "\n",
      "      fin_indep  locale  pre_degree  firstgen_pct    fam_income  \n",
      "0      0.129593      12           3      0.394034  21595.331860  \n",
      "1      0.311615      12           3      0.357159  34491.401200  \n",
      "2      0.894260      12           3      0.602410  15191.782760  \n",
      "3      0.348569      12           3      0.342919  36239.771820  \n",
      "4      0.143531      12           3      0.380558  21737.277370  \n",
      "5      0.148414      13           3      0.244552  63166.006720  \n",
      "6      0.394334      32           2      0.560566  18481.051320  \n",
      "7      0.712364      31           3      0.471595  29270.712730  \n",
      "8      0.277585      12           3      0.387300  25555.250530  \n",
      "9      0.088724      13           3      0.198874  66831.188720  \n",
      "10     0.024331      12           3      0.200000  70831.325820  \n",
      "11     0.500308      41           2      0.442321  19992.121840  \n",
      "12     0.164179      32           3      0.533477  15246.551800  \n",
      "13     0.771980      12           2      0.487443  18693.844220  \n",
      "14     0.444684      32           2      0.453479  19973.639920  \n",
      "15     0.382659      32           2      0.458455  21460.951930  \n",
      "16     0.580021      12           3      0.431336  23765.734650  \n",
      "17     0.499850      13           2      0.536090  14834.596240  \n",
      "18     0.519737      32           1      0.550388  17611.208320  \n",
      "19     0.473439      41           2      0.529711  15747.913660  \n",
      "20     0.415922      32           2      0.529018  24195.457860  \n",
      "21     0.361131      32           2      0.505000  14055.186350  \n",
      "22     0.860031      21           1      0.527798  16935.389800  \n",
      "23     0.290936      12           3      0.327559  39106.443260  \n",
      "24     0.691358      12           2      0.593679  13551.124980  \n",
      "25     0.270138      13           3      0.413028  35079.883250  \n",
      "26     0.437236      32           2      0.550082  15957.342460  \n",
      "27     0.448910      12           2      0.487376  22229.278040  \n",
      "28     0.455607      41           2      0.491895  22153.822920  \n",
      "29     0.521127      43           3      0.460581  15917.220580  \n",
      "...         ...     ...         ...           ...           ...  \n",
      "5760   0.912558      12           3      0.541667  16789.831130  \n",
      "5761   0.912558      13           3      0.541667  16789.831130  \n",
      "5762   0.912558      41           3      0.541667  16789.831130  \n",
      "5763   0.912558      21           3      0.541667  16789.831130  \n",
      "5764   0.912558      11           3      0.541667  16789.831130  \n",
      "5765   0.912558      11           3      0.541667  16789.831130  \n",
      "5766   0.912558      11           3      0.541667  16789.831130  \n",
      "5767   0.912558      11           3      0.541667  16789.831130  \n",
      "5768   0.912558      21           3      0.541667  16789.831130  \n",
      "5769   0.912558      11           3      0.541667  16789.831130  \n",
      "5770   0.683128      11           1      0.474860  16541.039360  \n",
      "5771   0.518124      12           1      0.450839  24775.943620  \n",
      "5772   0.538353      22           2      0.553883  23506.659030  \n",
      "5773   0.627424      13           1      0.503413  14364.558760  \n",
      "5774   0.813261      11           1      0.669251  12776.862190  \n",
      "5775   0.616079      13           0      0.532520  10076.582740  \n",
      "5776   0.508230      21           1      0.525959  20810.680460  \n",
      "5777   0.247432      21           3      0.359389  58986.920760  \n",
      "5778   0.637931      21           1      0.465608   9524.285661  \n",
      "5779   0.463342      32           2      0.428764  21042.448150  \n",
      "5780   0.836923      31           1      0.589844  14436.116480  \n",
      "5781   0.515351      11           2      0.409574  18863.784080  \n",
      "5782   0.795918      21           0      0.518325  10861.154290  \n",
      "5783   0.795918      21           1      0.518325  10861.154290  \n",
      "5784   0.940092      21           1      0.934066  17437.102660  \n",
      "5785   0.693114      11           2      0.538916  19682.830630  \n",
      "5786   0.774730      13           1      0.545244  12424.103400  \n",
      "5787   0.774730      21           1      0.545244  12424.103400  \n",
      "5788   0.503106      21           1      0.704000  17647.290550  \n",
      "5789   0.636593      33           1      0.542373  15463.889830  \n",
      "\n",
      "[5790 rows x 11 columns]\n"
     ]
    }
   ],
   "source": [
    "df = pd.read_csv('cleaned.csv', encoding='iso-8859-1')\n",
    "\n",
    "print(df)"
   ]
  },
  {
   "cell_type": "code",
   "execution_count": 84,
   "metadata": {
    "collapsed": false
   },
   "outputs": [
    {
     "name": "stdout",
     "output_type": "stream",
     "text": [
      "[ 3.56272267  1.60444967  0.         ...,  0.          0.          0.        ]\n"
     ]
    }
   ],
   "source": [
    "crime = df['crime_rate'] #outcomes\n",
    "crime_rate = np.array(crime)\n",
    "print(crime_rate)"
   ]
  },
  {
   "cell_type": "code",
   "execution_count": 108,
   "metadata": {
    "collapsed": false
   },
   "outputs": [
    {
     "name": "stdout",
     "output_type": "stream",
     "text": [
      "[[  1.29593046e-01   5.33300000e+03]\n",
      " [  3.11615321e-01   1.86980000e+04]\n",
      " [  8.94259819e-01   6.25000000e+02]\n",
      " ..., \n",
      " [  7.74729842e-01   7.50000000e+01]\n",
      " [  5.03105590e-01   6.70000000e+01]\n",
      " [  6.36593060e-01   2.43100000e+03]]\n"
     ]
    }
   ],
   "source": [
    "feature = df.drop('crime_rate',axis=1) #variables\n",
    "#features = feature.to_dict()['fin_indep']\n",
    "features = np.array(feature[['fin_indep','student_pop']])\n",
    "print(features)"
   ]
  },
  {
   "cell_type": "markdown",
   "metadata": {},
   "source": [
    "# Train-Test split\n",
    "\n",
    "Split 80-20 train and test data, to use for model."
   ]
  },
  {
   "cell_type": "code",
   "execution_count": 109,
   "metadata": {
    "collapsed": false
   },
   "outputs": [],
   "source": [
    "#split train and test data\n",
    "feat_train, feat_test, crime_train, crime_test = train_test_split(features, crime_rate, test_size = 0.2, random_state=11)"
   ]
  },
  {
   "cell_type": "code",
   "execution_count": 110,
   "metadata": {
    "collapsed": false
   },
   "outputs": [
    {
     "name": "stdout",
     "output_type": "stream",
     "text": [
      "[[  2.39789196e-01   2.21900000e+03]\n",
      " [  6.11242604e-01   5.76000000e+02]\n",
      " [  7.66233766e-01   2.20100000e+03]\n",
      " ..., \n",
      " [  7.64675855e-01   2.73000000e+02]\n",
      " [  7.43488556e-01   1.41000000e+02]\n",
      " [  6.23847572e-01   5.47500000e+03]]\n",
      "(1158, 2)\n",
      "(4632,)\n",
      "(1158,)\n"
     ]
    }
   ],
   "source": [
    "#features set\n",
    "print(feat_train)\n",
    "print(feat_test.shape)\n",
    "#outcome set\n",
    "print(crime_train.shape)\n",
    "print(crime_test.shape)"
   ]
  },
  {
   "cell_type": "markdown",
   "metadata": {},
   "source": [
    "# Scaling/Standardize"
   ]
  },
  {
   "cell_type": "code",
   "execution_count": 159,
   "metadata": {
    "collapsed": false
   },
   "outputs": [],
   "source": [
    "mins = np.min(feat_train, axis = 0)\n",
    "maxes = np.max(feat_train, axis = 0)\n",
    "diff = maxes - mins"
   ]
  },
  {
   "cell_type": "code",
   "execution_count": 160,
   "metadata": {
    "collapsed": false
   },
   "outputs": [
    {
     "data": {
      "text/plain": [
       "array([  9.61869136e-01,   1.95058000e+05])"
      ]
     },
     "execution_count": 160,
     "metadata": {},
     "output_type": "execute_result"
    }
   ],
   "source": [
    "diff"
   ]
  },
  {
   "cell_type": "code",
   "execution_count": 162,
   "metadata": {
    "collapsed": false
   },
   "outputs": [],
   "source": [
    "feat_train_stand = (feat_train - mins) / diff\n",
    "feat_test_stand = (feat_test - mins) / diff"
   ]
  },
  {
   "cell_type": "code",
   "execution_count": 163,
   "metadata": {
    "collapsed": false
   },
   "outputs": [],
   "source": [
    "minCrime = np.min(crime_train)\n",
    "maxCrime = np.max(crime_train)\n",
    "diffCrime = maxCrime - minCrime"
   ]
  },
  {
   "cell_type": "code",
   "execution_count": 164,
   "metadata": {
    "collapsed": true
   },
   "outputs": [],
   "source": [
    "crime_train_stand = (crime_train - minCrime) / diffCrime\n",
    "crime_test_stand = (crime_test - minCrime) / diffCrime"
   ]
  },
  {
   "cell_type": "markdown",
   "metadata": {},
   "source": [
    "# K-Fold Cross Validation\n"
   ]
  },
  {
   "cell_type": "code",
   "execution_count": 179,
   "metadata": {
    "collapsed": true
   },
   "outputs": [],
   "source": [
    "kValues = [1, 2, 3, 4, 100, 200, 3000, 4000]"
   ]
  },
  {
   "cell_type": "code",
   "execution_count": 180,
   "metadata": {
    "collapsed": false,
    "scrolled": true
   },
   "outputs": [
    {
     "name": "stdout",
     "output_type": "stream",
     "text": [
      "sklearn.cross_validation.KFold(n=4632, n_folds=10, shuffle=True, random_state=None)\n"
     ]
    }
   ],
   "source": [
    "folds = KFold(len(feat_train), n_folds = 10, shuffle = True)\n",
    "print(folds)"
   ]
  },
  {
   "cell_type": "code",
   "execution_count": 181,
   "metadata": {
    "collapsed": false
   },
   "outputs": [
    {
     "name": "stdout",
     "output_type": "stream",
     "text": [
      "[   0    1    3 ..., 4629 4630 4631]\n",
      "[   0    1    2 ..., 4629 4630 4631]\n",
      "[   0    2    3 ..., 4627 4629 4630]\n",
      "[   1    2    3 ..., 4629 4630 4631]\n",
      "[   0    1    2 ..., 4629 4630 4631]\n",
      "[   0    1    2 ..., 4628 4629 4631]\n",
      "[   0    1    2 ..., 4628 4630 4631]\n",
      "[   0    1    2 ..., 4629 4630 4631]\n",
      "[   0    1    2 ..., 4629 4630 4631]\n",
      "[   0    1    2 ..., 4629 4630 4631]\n"
     ]
    }
   ],
   "source": [
    "for train_index, val_index in folds:\n",
    "        print(train_index)"
   ]
  },
  {
   "cell_type": "code",
   "execution_count": 182,
   "metadata": {
    "collapsed": false
   },
   "outputs": [],
   "source": [
    "scores = {}\n",
    "for k in kValues:\n",
    "    currentScores = []\n",
    "    for train_index, val_index in folds:\n",
    "        current_train_feat = feat_train_stand[train_index]\n",
    "        current_val_feat = feat_train_stand[val_index]\n",
    "        current_train_crime, current_val_crime = crime_train[train_index], crime_train[val_index]\n",
    "        neigh = KNeighborsRegressor(n_neighbors = k)\n",
    "        neigh.fit(current_train_feat, current_train_crime)\n",
    "        guesses = neigh.predict(current_val_feat)\n",
    "        rmse = np.sqrt(mean_squared_error(guesses, current_val_crime))\n",
    "        currentScores.append(rmse)\n",
    "    scores[k] = currentScores"
   ]
  },
  {
   "cell_type": "markdown",
   "metadata": {},
   "source": [
    "# Plotting Error"
   ]
  },
  {
   "cell_type": "code",
   "execution_count": 183,
   "metadata": {
    "collapsed": false
   },
   "outputs": [],
   "source": [
    "keys = sorted(scores.keys())\n",
    "means = []\n",
    "stdevs = []\n",
    "for each in keys:\n",
    "    current = scores[each]\n",
    "    means.append(np.mean(current)) \n",
    "    stdevs.append(np.std(current))"
   ]
  },
  {
   "cell_type": "code",
   "execution_count": 184,
   "metadata": {
    "collapsed": false
   },
   "outputs": [
    {
     "data": {
      "text/plain": [
       "<matplotlib.text.Text at 0x26ec3f74d30>"
      ]
     },
     "execution_count": 184,
     "metadata": {},
     "output_type": "execute_result"
    },
    {
     "data": {
      "image/png": "[encoded data removed]",
      "text/plain": [
       "<matplotlib.figure.Figure at 0x26ec3f6ed68>"
      ]
     },
     "metadata": {},
     "output_type": "display_data"
    }
   ],
   "source": [
    "figure = plt.figure()\n",
    "plt.plot(keys, means, 'bo:')\n",
    "plt.xlabel('K')\n",
    "plt.ylabel('Normalized RMSE')\n",
    "plt.title('Error as a function of # of neighbors')"
   ]
  },
  {
   "cell_type": "code",
   "execution_count": 193,
   "metadata": {
    "collapsed": false
   },
   "outputs": [
    {
     "data": {
      "image/png": "[encoded data removed]",
      "text/plain": [
       "<matplotlib.figure.Figure at 0x26ec6cf87f0>"
      ]
     },
     "metadata": {},
     "output_type": "display_data"
    }
   ],
   "source": [
    "figure = plt.figure()\n",
    "plt.plot(keys, means, 'bo:')\n",
    "plt.xlabel('K')\n",
    "plt.ylabel('Normalized RMSE')\n",
    "plt.title('Error as a function of # of neighbors')\n",
    "plt.xlim([1,1000]);"
   ]
  },
  {
   "cell_type": "markdown",
   "metadata": {
    "collapsed": true
   },
   "source": [
    "From this, somewhere around 100-150 would be our ideal K neighbors, however this is probably a very inaccurate model since we only consider 2 features. "
   ]
  },
  {
   "cell_type": "code",
   "execution_count": null,
   "metadata": {
    "collapsed": true
   },
   "outputs": [],
   "source": []
  }
 ],
 "metadata": {
  "anaconda-cloud": {},
  "kernelspec": {
   "display_name": "Python [conda root]",
   "language": "python",
   "name": "conda-root-py"
  },
  "language_info": {
   "codemirror_mode": {
    "name": "ipython",
    "version": 3
   },
   "file_extension": ".py",
   "mimetype": "text/x-python",
   "name": "python",
   "nbconvert_exporter": "python",
   "pygments_lexer": "ipython3",
   "version": "3.5.2"
  }
 },
 "nbformat": 4,
 "nbformat_minor": 0
}
